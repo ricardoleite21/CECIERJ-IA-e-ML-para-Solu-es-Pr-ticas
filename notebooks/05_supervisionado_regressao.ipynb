{
 "cells": [
  {
   "cell_type": "markdown",
   "id": "735c407e",
   "metadata": {},
   "source": [
    "# Capítulo 5 — Aprendizado Supervisionado (Regressão)\n",
    "\n",
    "Modelos: Regressão Linear, Random Forest Regressor.\n"
   ]
  },
  {
   "cell_type": "code",
   "execution_count": null,
   "id": "27b4a6f9",
   "metadata": {},
   "outputs": [],
   "source": [
    "from sklearn.datasets import load_diabetes\n",
    "from sklearn.model_selection import train_test_split\n",
    "from src.models import make_regressors\n",
    "from src.evaluation import reg_metrics\n",
    "from sklearn.preprocessing import StandardScaler\n",
    "\n",
    "data = load_diabetes()\n",
    "import pandas as pd\n",
    "X = pd.DataFrame(data.data, columns=data.feature_names)\n",
    "y = pd.Series(data.target, name=\"target\")\n",
    "\n",
    "X_train, X_test, y_train, y_test = train_test_split(X, y, test_size=0.2, random_state=42)\n",
    "scaler = StandardScaler()\n",
    "X_train = scaler.fit_transform(X_train)\n",
    "X_test = scaler.transform(X_test)\n",
    "\n",
    "models = make_regressors()\n",
    "for name, model in models.items():\n",
    "    model.fit(X_train, y_train)\n",
    "    y_pred = model.predict(X_test)\n",
    "    print(name, reg_metrics(y_test, y_pred))\n"
   ]
  }
 ],
 "metadata": {},
 "nbformat": 4,
 "nbformat_minor": 5
}
