{
 "cells": [
  {
   "cell_type": "markdown",
   "id": "1efcdd3d",
   "metadata": {},
   "source": [
    "# Capítulo 8 — Introdução ao Aprendizado por Reforço\n",
    "\n",
    "Conceitos e objeto de estudo (agente, ambiente, estados, ações, recompensas).\n",
    "Exemplo didático com um ambiente discreto simulando política aleatória.\n"
   ]
  },
  {
   "cell_type": "code",
   "execution_count": null,
   "id": "29b9994c",
   "metadata": {},
   "outputs": [],
   "source": [
    "import random\n",
    "\n",
    "states = range(5)   # 5 estados\n",
    "actions = [0, 1]    # duas ações\n",
    "\n",
    "def reward(state, action):\n",
    "    return 1 if (state == 4 and action == 1) else 0\n",
    "\n",
    "total = 0\n",
    "for episode in range(10):\n",
    "    s = random.choice(list(states))\n",
    "    a = random.choice(actions)\n",
    "    total += reward(s, a)\n",
    "print(\"Recompensa média (política aleatória, 10 episódios):\", total/10)\n"
   ]
  }
 ],
 "metadata": {},
 "nbformat": 4,
 "nbformat_minor": 5
}
