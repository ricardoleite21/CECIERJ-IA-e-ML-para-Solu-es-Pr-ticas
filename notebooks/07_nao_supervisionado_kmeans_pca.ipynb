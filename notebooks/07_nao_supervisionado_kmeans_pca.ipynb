{
 "cells": [
  {
   "cell_type": "markdown",
   "id": "8639e401",
   "metadata": {},
   "source": [
    "# Capítulo 7 — Não supervisionado + PCA\n",
    "\n",
    "- KMeans e (opcional) DBSCAN\n",
    "- PCA para redução de dimensionalidade e visualização\n"
   ]
  },
  {
   "cell_type": "code",
   "execution_count": null,
   "id": "e0784bd0",
   "metadata": {},
   "outputs": [],
   "source": [
    "from sklearn.datasets import load_wine\n",
    "from sklearn.preprocessing import StandardScaler\n",
    "from sklearn.decomposition import PCA\n",
    "from sklearn.cluster import KMeans\n",
    "import matplotlib.pyplot as plt\n",
    "\n",
    "data = load_wine()\n",
    "X = data.data\n",
    "X = StandardScaler().fit_transform(X)\n",
    "\n",
    "pca = PCA(n_components=2)\n",
    "X_pca = pca.fit_transform(X)\n",
    "\n",
    "km = KMeans(n_clusters=3, n_init=10, random_state=42)\n",
    "labels = km.fit_predict(X_pca)\n",
    "\n",
    "plt.figure()\n",
    "plt.scatter(X_pca[:,0], X_pca[:,1], c=labels)\n",
    "plt.title(\"KMeans sobre PCA (Wine)\")\n",
    "plt.xlabel(\"PC1\"); plt.ylabel(\"PC2\")\n",
    "plt.show()\n"
   ]
  }
 ],
 "metadata": {},
 "nbformat": 4,
 "nbformat_minor": 5
}
