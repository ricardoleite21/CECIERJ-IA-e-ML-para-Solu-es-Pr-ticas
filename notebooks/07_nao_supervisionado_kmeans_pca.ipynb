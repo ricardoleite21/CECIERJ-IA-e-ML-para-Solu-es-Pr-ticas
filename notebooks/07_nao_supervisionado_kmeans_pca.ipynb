{
 "cells": [
  {
   "cell_type": "markdown",
   "id": "ca8a5da9",
   "metadata": {},
   "source": [
    "\n",
    "# Capítulo 7 — Não Supervisionado + PCA\n",
    "**Objetivos:**\n",
    "- `KMeans` (elbow e silhouette) e `DBSCAN` (noções)\n",
    "- `PCA`: variância explicada, projeção 2D\n"
   ]
  },
  {
   "cell_type": "code",
   "execution_count": null,
   "id": "2d46ad05",
   "metadata": {},
   "outputs": [],
   "source": [
    "\n",
    "import numpy as np, matplotlib.pyplot as plt\n",
    "from sklearn.datasets import load_wine\n",
    "from sklearn.preprocessing import StandardScaler\n",
    "from sklearn.decomposition import PCA\n",
    "from sklearn.cluster import KMeans, DBSCAN\n",
    "from sklearn.metrics import silhouette_score\n",
    "\n",
    "data = load_wine()\n",
    "X = StandardScaler().fit_transform(data.data)\n",
    "\n",
    "# Elbow para K\n",
    "ks, inertias = [], []\n",
    "for k in range(2, 9):\n",
    "    km = KMeans(n_clusters=k, n_init=10, random_state=42).fit(X)\n",
    "    ks.append(k); inertias.append(km.inertia_)\n",
    "plt.figure(); plt.plot(ks, inertias, marker=\"o\")\n",
    "plt.title(\"Elbow (KMeans)\"); plt.xlabel(\"k\"); plt.ylabel(\"Inertia\"); plt.show()\n",
    "\n",
    "# Silhouette\n",
    "sils = []\n",
    "for k in range(2, 9):\n",
    "    km = KMeans(n_clusters=k, n_init=10, random_state=42).fit(X)\n",
    "    sils.append(silhouette_score(X, km.labels_))\n",
    "plt.figure(); plt.plot(ks, sils, marker=\"s\")\n",
    "plt.title(\"Silhouette (KMeans)\"); plt.xlabel(\"k\"); plt.ylabel(\"Score\"); plt.show()\n",
    "\n",
    "# PCA 2D\n",
    "pca = PCA(n_components=2)\n",
    "Xp = pca.fit_transform(X)\n",
    "km = KMeans(n_clusters=3, n_init=10, random_state=42).fit(X)\n",
    "plt.figure(); plt.scatter(Xp[:,0], Xp[:,1], c=km.labels_)\n",
    "plt.title(f\"PCA2 + KMeans (var explicada: {pca.explained_variance_ratio_.sum():.2f})\")\n",
    "plt.xlabel(\"PC1\"); plt.ylabel(\"PC2\"); plt.show()\n",
    "\n",
    "# DBSCAN (demonstração)\n",
    "db = DBSCAN(eps=1.8, min_samples=5).fit(Xp)\n",
    "plt.figure(); plt.scatter(Xp[:,0], Xp[:,1], c=db.labels_)\n",
    "plt.title(\"DBSCAN sobre PCA2 (labels: -1=ruído)\"); plt.show()\n"
   ]
  }
 ],
 "metadata": {},
 "nbformat": 4,
 "nbformat_minor": 5
}
