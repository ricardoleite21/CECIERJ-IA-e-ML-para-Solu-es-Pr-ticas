{
 "cells": [
  {
   "cell_type": "markdown",
   "id": "e0ed9eb4",
   "metadata": {},
   "source": [
    "\n",
    "# Capítulo 7 — Não Supervisionado + PCA (KMeans, DBSCAN, Silhouette)\n",
    "\n",
    "**Curso:** CECIERJ – IA e ML para Soluções Práticas  \n",
    "**Objetivo:** explorar algoritmos **sem rótulos** (clustering) e **redução de dimensionalidade** (PCA), avaliando a coesão/separação dos grupos.\n",
    "\n",
    "---\n",
    "## Passos abordados\n",
    "1. Dataset (`Wine`).  \n",
    "2. Padronização e PCA (variância explicada).  \n",
    "3. **KMeans**: *elbow* (inertia) e **silhouette** para escolher *k*.  \n",
    "4. Visualização 2D (PCA) com rótulos do KMeans.  \n",
    "5. **DBSCAN**: noções, sensibilidade a `eps` e `min_samples`.  \n",
    "6. Comparação e *trade-offs*.  \n",
    "7. Salvar `Pipeline(PCA+KMeans)` melhor por **silhouette**.\n"
   ]
  },
  {
   "cell_type": "code",
   "execution_count": null,
   "id": "a798b8d9",
   "metadata": {},
   "outputs": [],
   "source": [
    "\n",
    "import numpy as np, matplotlib.pyplot as plt\n",
    "from sklearn.datasets import load_wine\n",
    "from sklearn.preprocessing import StandardScaler\n",
    "from sklearn.decomposition import PCA\n",
    "\n",
    "data = load_wine()\n",
    "X = data.data  # sem rótulos para clustering\n",
    "feature_names = data.feature_names\n",
    "\n",
    "# Padronização\n",
    "scaler = StandardScaler()\n",
    "X_scaled = scaler.fit_transform(X)\n",
    "\n",
    "# PCA para 2 componentes (visualização)\n",
    "pca2 = PCA(n_components=2, random_state=42)\n",
    "X_pca2 = pca2.fit_transform(X_scaled)\n",
    "print(\"Variância explicada (2 PCs):\", pca2.explained_variance_ratio_.sum())\n"
   ]
  },
  {
   "cell_type": "code",
   "execution_count": null,
   "id": "ff13a1ee",
   "metadata": {},
   "outputs": [],
   "source": [
    "\n",
    "from sklearn.cluster import KMeans\n",
    "\n",
    "ks = list(range(2, 11))\n",
    "inertias = []\n",
    "for k in ks:\n",
    "    km = KMeans(n_clusters=k, n_init=10, random_state=42)\n",
    "    km.fit(X_scaled)\n",
    "    inertias.append(km.inertia_)\n",
    "\n",
    "plt.figure()\n",
    "plt.plot(ks, inertias, marker=\"o\")\n",
    "plt.title(\"Elbow (KMeans)\")\n",
    "plt.xlabel(\"k\")\n",
    "plt.ylabel(\"Inertia\")\n",
    "plt.show()\n"
   ]
  },
  {
   "cell_type": "code",
   "execution_count": null,
   "id": "ec28c541",
   "metadata": {},
   "outputs": [],
   "source": [
    "\n",
    "from sklearn.metrics import silhouette_score\n",
    "\n",
    "sils = []\n",
    "for k in ks:\n",
    "    km = KMeans(n_clusters=k, n_init=10, random_state=42)\n",
    "    labels = km.fit_predict(X_scaled)\n",
    "    sil = silhouette_score(X_scaled, labels)\n",
    "    sils.append(sil)\n",
    "\n",
    "plt.figure()\n",
    "plt.plot(ks, sils, marker=\"s\")\n",
    "plt.title(\"Silhouette (KMeans)\")\n",
    "plt.xlabel(\"k\")\n",
    "plt.ylabel(\"Score\")\n",
    "plt.show()\n",
    "\n",
    "best_k = ks[int(np.argmax(sils))]\n",
    "print(\"Melhor k por silhouette:\", best_k, \"score:\", max(sils))\n"
   ]
  },
  {
   "cell_type": "code",
   "execution_count": null,
   "id": "9aa8dea3",
   "metadata": {},
   "outputs": [],
   "source": [
    "\n",
    "best_km = KMeans(n_clusters=best_k, n_init=10, random_state=42).fit(X_scaled)\n",
    "labels = best_km.labels_\n",
    "\n",
    "plt.figure()\n",
    "plt.scatter(X_pca2[:,0], X_pca2[:,1], c=labels)\n",
    "plt.title(f\"PCA2 + KMeans (k={best_k})\")\n",
    "plt.xlabel(\"PC1\"); plt.ylabel(\"PC2\")\n",
    "plt.show()\n"
   ]
  },
  {
   "cell_type": "code",
   "execution_count": null,
   "id": "ae7d3d1a",
   "metadata": {},
   "outputs": [],
   "source": [
    "\n",
    "from sklearn.cluster import DBSCAN\n",
    "\n",
    "# Rodamos DBSCAN no plano PCA2 para efeito visual\n",
    "db = DBSCAN(eps=1.5, min_samples=5).fit(X_pca2)\n",
    "db_labels = db.labels_    # -1 = ruído\n",
    "n_clusters = len(set(db_labels)) - (1 if -1 in db_labels else 0)\n",
    "print(\"DBSCAN clusters:\", n_clusters, \"| Ruído:\", (db_labels == -1).sum())\n",
    "\n",
    "plt.figure()\n",
    "plt.scatter(X_pca2[:,0], X_pca2[:,1], c=db_labels)\n",
    "plt.title(\"DBSCAN sobre PCA2 (-1 = ruído)\")\n",
    "plt.xlabel(\"PC1\"); plt.ylabel(\"PC2\")\n",
    "plt.show()\n"
   ]
  },
  {
   "cell_type": "code",
   "execution_count": null,
   "id": "bb24c822",
   "metadata": {},
   "outputs": [],
   "source": [
    "\n",
    "from sklearn.pipeline import Pipeline\n",
    "import joblib\n",
    "\n",
    "pipe = Pipeline([\n",
    "    (\"scaler\", StandardScaler()),\n",
    "    (\"pca\", PCA(n_components=2, random_state=42)),\n",
    "    (\"kmeans\", KMeans(n_clusters=best_k, n_init=10, random_state=42))\n",
    "])\n",
    "pipe.fit(X)\n",
    "\n",
    "save_path = \"/mnt/data/modelo_cap7_kmeans_pca.joblib\"\n",
    "joblib.dump(pipe, save_path)\n",
    "print(\"Pipeline salvo em:\", save_path)\n"
   ]
  },
  {
   "cell_type": "markdown",
   "id": "a5298abd",
   "metadata": {},
   "source": [
    "\n",
    "---\n",
    "## Conclusões\n",
    "- **KMeans** precisa de *k*; use **elbow** e **silhouette** como guias (não regras).  \n",
    "- **DBSCAN** encontra formas arbitrárias e ruído, mas é sensível a `eps/min_samples`.  \n",
    "- **PCA** ajuda na visualização e pode melhorar separabilidade (cuidado com perda de informação).  \n",
    "- Salve *pipelines* (scaler+PCA+KMeans) para reproduzir o mesmo *fit* e rótulos.\n"
   ]
  }
 ],
 "metadata": {},
 "nbformat": 4,
 "nbformat_minor": 5
}
