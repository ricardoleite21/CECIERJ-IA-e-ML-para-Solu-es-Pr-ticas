{
 "cells": [
  {
   "cell_type": "markdown",
   "id": "9c7059c6",
   "metadata": {},
   "source": [
    "\n",
    "# Capítulo 1 — Introdução à IA e ML (Plano do curso)\n",
    "**Objetivos**\n",
    "- Entender o que é IA/ML e como aplicar a *pipeline* (problema → dados → preparo → treino → avaliação → implantação).\n",
    "- Visão geral dos tipos de aprendizado e métricas.\n",
    "- Como usaremos `scikit-learn` ao longo do curso.\n",
    "\n",
    "**Pipeline padrão**\n",
    "1. Definição do problema/objetivo de negócio.\n",
    "2. Coleta/entendimento dos dados (EDA).\n",
    "3. Engenharia de atributos e pré-processamento.\n",
    "4. Treino/validação (evitar *data leakage*).\n",
    "5. Seleção/ajuste de hiperparâmetros.\n",
    "6. Avaliação e interpretação.\n",
    "7. Empacotamento e versão do modelo.\n",
    "8. Monitoramento e ética.\n"
   ]
  },
  {
   "cell_type": "code",
   "execution_count": null,
   "id": "95cfc60c",
   "metadata": {},
   "outputs": [],
   "source": [
    "\n",
    "print(\"Bem-vindo(a)! Vamos do zero ao deploy didático com scikit-learn.\")\n"
   ]
  }
 ],
 "metadata": {},
 "nbformat": 4,
 "nbformat_minor": 5
}
