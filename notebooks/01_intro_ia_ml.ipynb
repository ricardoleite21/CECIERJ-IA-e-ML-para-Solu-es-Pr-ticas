{
 "cells": [
  {
   "cell_type": "markdown",
   "id": "844d9df0",
   "metadata": {},
   "source": [
    "# Capítulo 1 — Introdução à Inteligência Artificial e Aprendizado de Máquina\n",
    "\n",
    "- Conceitos básicos: IA, ML e Deep Learning\n",
    "- Tipos de aprendizado: **supervisionado**, **não supervisionado** e **por reforço**\n",
    "- Pipeline típico de um projeto de ML\n"
   ]
  },
  {
   "cell_type": "code",
   "execution_count": null,
   "id": "d89b67f1",
   "metadata": {},
   "outputs": [],
   "source": [
    "# Este notebook é introdutório; nenhum pacote específico é necessário aqui.\n",
    "print(\"Bem-vindo(a) ao curso CECIERJ – IA e ML para Soluções Práticas!\") \n"
   ]
  }
 ],
 "metadata": {},
 "nbformat": 4,
 "nbformat_minor": 5
}
