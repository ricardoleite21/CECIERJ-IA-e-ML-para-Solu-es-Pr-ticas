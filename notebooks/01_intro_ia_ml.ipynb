{
 "cells": [
  {
   "cell_type": "markdown",
   "id": "23b9cee4",
   "metadata": {},
   "source": [
    "\n",
    "# Capítulo 1 — Introdução à IA e ML\n",
    "\n",
    "**Curso:** CECIERJ – IA e ML para Soluções Práticas  \n",
    "**Objetivo do capítulo:** entender os conceitos fundamentais, os tipos de aprendizado e o *pipeline* completo de um projeto de ML, fechando com um mini-experimento guiado.\n",
    "\n",
    "## O que é IA? E ML? E DL?\n",
    "- **IA**: sistemas que realizam tarefas que normalmente exigem inteligência humana.\n",
    "- **ML (Aprendizado de Máquina)**: subárea da IA que aprende *padrões a partir de dados*.\n",
    "- **DL (Aprendizado Profundo)**: subárea de ML baseada em redes neurais com muitas camadas.\n",
    "\n",
    "> Resumo: **IA ⊇ ML ⊇ DL** — nem toda IA usa ML; nem todo ML é DL.\n"
   ]
  },
  {
   "cell_type": "markdown",
   "id": "818f4743",
   "metadata": {},
   "source": [
    "\n",
    "## Tipos de Aprendizado\n",
    "- **Supervisionado**: dados com rótulo/valor alvo (ex.: classificar spam, prever preço).\n",
    "- **Não supervisionado**: dados sem rótulo (ex.: agrupar clientes, reduzir dimensionalidade).\n",
    "- **Por reforço**: agente aprende por *recompensas* em um ambiente (ex.: jogos, robótica).\n"
   ]
  },
  {
   "cell_type": "markdown",
   "id": "6b17b351",
   "metadata": {},
   "source": [
    "\n",
    "## Pipeline de um Projeto de ML\n",
    "1. **Definir problema e objetivos** (o que otimizar? qual métrica importa?).  \n",
    "2. **Entender/coletar dados** (EDA, qualidade, viés).  \n",
    "3. **Pré-processar/engenharia de atributos** (limpeza, *encoding*, escalonamento).  \n",
    "4. **Treinar e validar** (holdout e/ou *cross-validation*).  \n",
    "5. **Ajustar hiperparâmetros** (ex.: `GridSearchCV`).  \n",
    "6. **Avaliar** (métricas + interpretação de resultados).  \n",
    "7. **Empacotar e versionar** (reprodutibilidade).  \n",
    "8. **Implantar e monitorar** (drift, performance, custo).  \n",
    "9. **Ética e governança** (LGPD, vieses, transparência).\n"
   ]
  },
  {
   "cell_type": "markdown",
   "id": "9a3dc30c",
   "metadata": {},
   "source": [
    "\n",
    "## Métricas (mapa rápido)\n",
    "- **Classificação**: *accuracy*, *precision*, *recall*, *F1*, *ROC AUC*.\n",
    "- **Regressão**: *MAE*, *MSE*, *RMSE*, *R²*.\n",
    "- **Clustering**: *silhouette*, *inertia* (KMeans).\n",
    "\n",
    "> Não existe “uma métrica para tudo”. Selecione de acordo com o problema.\n"
   ]
  },
  {
   "cell_type": "markdown",
   "id": "f82b1725",
   "metadata": {},
   "source": [
    "\n",
    "## Riscos comuns\n",
    "- **Overfitting/Underfitting**: ajuste demais/de menos.\n",
    "- **Data leakage**: usar acidentalmente informação do futuro no treino.\n",
    "- **Validação incorreta**: sem CV, resultados instáveis.\n",
    "- **Métrica desalinhada**: otimiza *accuracy*, mas o custo real depende de *recall*.\n"
   ]
  },
  {
   "cell_type": "markdown",
   "id": "6068440b",
   "metadata": {},
   "source": [
    "\n",
    "---\n",
    "# Mini‑experimento: Classificação binária (do zero em poucos passos)\n",
    "\n",
    "Vamos prever se um tumor é **maligno** (1) ou **benigno** (0) usando o dataset **Breast Cancer** do `scikit-learn`.  \n",
    "Etapas: carregar dados → *train/test split* → *pipeline* (escalonamento + modelo) → avaliação.\n"
   ]
  },
  {
   "cell_type": "code",
   "execution_count": null,
   "id": "3cbf0bd2",
   "metadata": {},
   "outputs": [],
   "source": [
    "\n",
    "# Checagem de ambiente (execute para confirmar versões)\n",
    "import sys\n",
    "print(\"Python:\", sys.version)\n",
    "try:\n",
    "    import numpy, pandas, sklearn, matplotlib\n",
    "    print(\"numpy:\", numpy.__version__)\n",
    "    print(\"pandas:\", pandas.__version__)\n",
    "    print(\"scikit-learn:\", sklearn.__version__)\n",
    "    print(\"matplotlib:\", matplotlib.__version__)\n",
    "except Exception as e:\n",
    "    print(\"Dependências ausentes:\", e)\n"
   ]
  },
  {
   "cell_type": "code",
   "execution_count": null,
   "id": "67d31527",
   "metadata": {},
   "outputs": [],
   "source": [
    "\n",
    "# 1) Carregar dados e olhar formato básico\n",
    "import pandas as pd\n",
    "from sklearn.datasets import load_breast_cancer\n",
    "\n",
    "ds = load_breast_cancer(as_frame=True)\n",
    "df = ds.frame.copy()  # contém features + coluna target\n",
    "print(\"Shape:\", df.shape)\n",
    "df.head()\n"
   ]
  },
  {
   "cell_type": "code",
   "execution_count": null,
   "id": "df43e62a",
   "metadata": {},
   "outputs": [],
   "source": [
    "\n",
    "# 2) Split + Pipeline (StandardScaler + LogisticRegression)\n",
    "from sklearn.model_selection import train_test_split\n",
    "from sklearn.pipeline import Pipeline\n",
    "from sklearn.preprocessing import StandardScaler\n",
    "from sklearn.linear_model import LogisticRegression\n",
    "\n",
    "X = df.drop(columns=[\"target\"])\n",
    "y = df[\"target\"]  # 1 = maligno, 0 = benigno\n",
    "\n",
    "X_train, X_test, y_train, y_test = train_test_split(\n",
    "    X, y, test_size=0.2, stratify=y, random_state=42\n",
    ")\n",
    "\n",
    "pipe = Pipeline([\n",
    "    (\"scaler\", StandardScaler()),\n",
    "    (\"clf\", LogisticRegression(max_iter=1000))\n",
    "])\n",
    "\n",
    "pipe.fit(X_train, y_train)\n",
    "print(\"Treinado!\")\n"
   ]
  },
  {
   "cell_type": "code",
   "execution_count": null,
   "id": "726c28fb",
   "metadata": {},
   "outputs": [],
   "source": [
    "\n",
    "# 3) Avaliação rápida: accuracy, relatório de classificação,\n",
    "#    matriz de confusão e curva ROC\n",
    "import matplotlib.pyplot as plt\n",
    "from sklearn.metrics import (\n",
    "    accuracy_score, classification_report, confusion_matrix, RocCurveDisplay\n",
    ")\n",
    "\n",
    "y_pred = pipe.predict(X_test)\n",
    "acc = accuracy_score(y_test, y_pred)\n",
    "print(\"Accuracy:\", acc)\n",
    "print(classification_report(y_test, y_pred, digits=4))\n",
    "\n",
    "# Matriz de confusão\n",
    "cm = confusion_matrix(y_test, y_pred)\n",
    "from sklearn.metrics import ConfusionMatrixDisplay\n",
    "ConfusionMatrixDisplay(cm).plot()\n",
    "plt.title(\"Matriz de Confusão\")\n",
    "plt.show()\n",
    "\n",
    "# Curva ROC (binário)\n",
    "RocCurveDisplay.from_estimator(pipe, X_test, y_test)\n",
    "plt.title(\"Curva ROC\")\n",
    "plt.show()\n"
   ]
  },
  {
   "cell_type": "code",
   "execution_count": null,
   "id": "743213e0",
   "metadata": {},
   "outputs": [],
   "source": [
    "\n",
    "# 4) Interpretação rápida: coeficientes (importância aproximada no modelo linear)\n",
    "import numpy as np\n",
    "clf = pipe.named_steps[\"clf\"]\n",
    "coefs = pd.Series(clf.coef_[0], index=X.columns).sort_values(ascending=False)\n",
    "coefs.head(10)\n"
   ]
  },
  {
   "cell_type": "markdown",
   "id": "a07e56ee",
   "metadata": {},
   "source": [
    "\n",
    "## Conclusões e próximos passos\n",
    "- Você viu o *pipeline* mínimo: **split → scaler → modelo → avaliação**.\n",
    "- A partir daqui (demais capítulos), aprofundamos **pré-processamento**, **validação**, **tuning** e **métricas**.\n",
    "- Pense na **métrica de negócio** antes de otimizar o modelo.\n",
    "\n",
    "> Dica: sempre guarde **seeds**, **versões** e **scripts** para reprodutibilidade.\n"
   ]
  }
 ],
 "metadata": {},
 "nbformat": 4,
 "nbformat_minor": 5
}
