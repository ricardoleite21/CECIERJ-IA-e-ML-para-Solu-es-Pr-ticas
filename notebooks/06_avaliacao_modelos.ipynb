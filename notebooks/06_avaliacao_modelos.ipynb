{
 "cells": [
  {
   "cell_type": "markdown",
   "id": "9c1e1695",
   "metadata": {},
   "source": [
    "\n",
    "# Capítulo 6 — Avaliação de Modelos\n",
    "**Objetivo:** comparar estratégias de validação e inspecionar *bias/variance*.\n",
    "- Holdout vs. Cross-Validation\n",
    "- *Learning curves* (curvas de aprendizado)\n",
    "- *Calibration curve* (para probabilidades)\n"
   ]
  },
  {
   "cell_type": "code",
   "execution_count": null,
   "id": "af6b6232",
   "metadata": {},
   "outputs": [],
   "source": [
    "\n",
    "import numpy as np, matplotlib.pyplot as plt\n",
    "from sklearn.datasets import load_breast_cancer\n",
    "from sklearn.model_selection import learning_curve, StratifiedKFold\n",
    "from sklearn.pipeline import Pipeline\n",
    "from sklearn.preprocessing import StandardScaler\n",
    "from sklearn.linear_model import LogisticRegression\n",
    "from sklearn.calibration import CalibrationDisplay\n",
    "from sklearn.model_selection import train_test_split\n",
    "\n",
    "ds = load_breast_cancer()\n",
    "X, y = ds.data, ds.target\n",
    "\n",
    "pipe = Pipeline([(\"scaler\", StandardScaler()), (\"clf\", LogisticRegression(max_iter=1000))])\n",
    "cv = StratifiedKFold(n_splits=5, shuffle=True, random_state=42)\n",
    "\n",
    "train_sizes, train_scores, test_scores = learning_curve(\n",
    "    pipe, X, y, cv=cv, scoring=\"accuracy\", train_sizes=np.linspace(0.1, 1.0, 5), n_jobs=-1\n",
    ")\n",
    "plt.figure()\n",
    "plt.plot(train_sizes, train_scores.mean(axis=1), marker=\"o\", label=\"Treino\")\n",
    "plt.plot(train_sizes, test_scores.mean(axis=1), marker=\"s\", label=\"Validação\")\n",
    "plt.xlabel(\"Tamanho do treino\"); plt.ylabel(\"Acurácia\"); plt.title(\"Learning Curve\")\n",
    "plt.legend(); plt.show()\n",
    "\n",
    "X_train, X_test, y_train, y_test = train_test_split(X, y, stratify=y, test_size=0.2, random_state=42)\n",
    "pipe.fit(X_train, y_train)\n",
    "disp = CalibrationDisplay.from_estimator(pipe, X_test, y_test, n_bins=10)\n",
    "disp.ax_.set_title(\"Calibration Curve\")\n",
    "plt.show()\n"
   ]
  }
 ],
 "metadata": {},
 "nbformat": 4,
 "nbformat_minor": 5
}
