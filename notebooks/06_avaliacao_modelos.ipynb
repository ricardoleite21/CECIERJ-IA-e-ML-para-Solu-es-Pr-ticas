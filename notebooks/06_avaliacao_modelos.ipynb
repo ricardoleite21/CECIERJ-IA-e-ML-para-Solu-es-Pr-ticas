{
 "cells": [
  {
   "cell_type": "markdown",
   "id": "6b017202",
   "metadata": {},
   "source": [
    "# Capítulo 6 — Avaliação de Modelos\n",
    "\n",
    "- Holdout vs. Validação Cruzada\n",
    "- Métricas de classificação e regressão\n",
    "- Curva ROC/AUC (quando aplicável)\n"
   ]
  },
  {
   "cell_type": "code",
   "execution_count": null,
   "id": "d09a8ec4",
   "metadata": {},
   "outputs": [],
   "source": [
    "from sklearn.datasets import load_breast_cancer\n",
    "from sklearn.model_selection import StratifiedKFold, cross_val_score\n",
    "from sklearn.linear_model import LogisticRegression\n",
    "\n",
    "data = load_breast_cancer()\n",
    "X, y = data.data, data.target\n",
    "clf = LogisticRegression(max_iter=1000)\n",
    "cv = StratifiedKFold(n_splits=5, shuffle=True, random_state=42)\n",
    "scores = cross_val_score(clf, X, y, cv=cv, scoring=\"accuracy\")\n",
    "print(\"CV Accuracy:\", scores.mean())\n"
   ]
  }
 ],
 "metadata": {},
 "nbformat": 4,
 "nbformat_minor": 5
}
