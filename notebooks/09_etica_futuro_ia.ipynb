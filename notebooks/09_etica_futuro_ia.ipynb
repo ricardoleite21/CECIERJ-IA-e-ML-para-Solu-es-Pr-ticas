{
 "cells": [
  {
   "cell_type": "markdown",
   "id": "337e6551",
   "metadata": {},
   "source": [
    "# Capítulo 9 — Ética e Futuro da IA\n",
    "\n",
    "- Vieses e justiça algorítmica\n",
    "- Transparência, reprodutibilidade e segurança de dados\n",
    "- Boas práticas no uso de modelos em produção\n"
   ]
  },
  {
   "cell_type": "code",
   "execution_count": null,
   "id": "efd248e8",
   "metadata": {},
   "outputs": [],
   "source": [
    "# Este notebook serve como guia de discussão/checagem ética.\n",
    "checklist = [\n",
    "    \"Dados possuem consentimento e adequação ao uso?\",\n",
    "    \"Há controle de viés (amostral e de rótulos)?\",\n",
    "    \"Métricas de equidade foram avaliadas?\",\n",
    "    \"Reprodutibilidade garantida (seed, versões, ambiente)?\",\n",
    "    \"Plano de monitoramento e governança definido?\",\n",
    "]\n",
    "for item in checklist:\n",
    "    print(\"✔\", item)\n"
   ]
  }
 ],
 "metadata": {},
 "nbformat": 4,
 "nbformat_minor": 5
}
