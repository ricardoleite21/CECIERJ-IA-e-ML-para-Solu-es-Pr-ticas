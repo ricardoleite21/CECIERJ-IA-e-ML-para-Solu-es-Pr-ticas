{
 "cells": [
  {
   "cell_type": "markdown",
   "id": "e9bcaab7",
   "metadata": {},
   "source": [
    "\n",
    "# Capítulo 9 — Ética, Governança e Futuro da IA\n",
    "**Tópicos práticos para projetos reais**\n",
    "- Viés e justiça: amostragem, rótulos, métricas de equidade.\n",
    "- Privacidade e LGPD: finalidade, minimização, consentimento.\n",
    "- Reprodutibilidade: sementes, versões, *data lineage*.\n",
    "- Observabilidade: *drift*, alarme de performance, CI/CD de modelos.\n",
    "- Checklist final (para você adaptar ao seu contexto).\n"
   ]
  },
  {
   "cell_type": "code",
   "execution_count": null,
   "id": "92f05b79",
   "metadata": {},
   "outputs": [],
   "source": [
    "\n",
    "checklist = [\n",
    "    \"Dados têm base legal e finalidade definida (LGPD)?\",\n",
    "    \"Documentei origem dos dados e *data lineage*?\",\n",
    "    \"Verifiquei viés de amostragem e de rotulagem?\",\n",
    "    \"Separei treino/validação/teste corretamente (sem leakage)?\",\n",
    "    \"Registrei seeds, versões de libs e do dataset?\",\n",
    "    \"Implementei monitoramento de drift e métricas em produção?\",\n",
    "    \"Existe plano de rollback e governança de acesso?\",\n",
    "    \"Expliquei limitações e riscos do modelo aos stakeholders?\",\n",
    "]\n",
    "for item in checklist:\n",
    "    print(\"✔\", item)\n"
   ]
  }
 ],
 "metadata": {},
 "nbformat": 4,
 "nbformat_minor": 5
}
