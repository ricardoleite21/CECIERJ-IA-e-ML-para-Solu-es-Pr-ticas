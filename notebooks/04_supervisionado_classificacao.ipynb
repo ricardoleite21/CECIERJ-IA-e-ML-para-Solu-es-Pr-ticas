{
 "cells": [
  {
   "cell_type": "markdown",
   "id": "73b1ac93",
   "metadata": {},
   "source": [
    "# Capítulo 4 — Aprendizado Supervisionado (Classificação)\n",
    "\n",
    "Modelos: Regressão Logística, KNN, Árvore de Decisão.\n"
   ]
  },
  {
   "cell_type": "code",
   "execution_count": null,
   "id": "68a8f6f2",
   "metadata": {},
   "outputs": [],
   "source": [
    "from sklearn.datasets import load_iris\n",
    "from sklearn.metrics import classification_report\n",
    "from src.preprocessing import train_test_scale\n",
    "from src.models import make_classifiers\n",
    "\n",
    "data = load_iris(as_frame=True)\n",
    "X = data.frame.drop(columns=[\"target\"])\n",
    "y = data.frame[\"target\"]\n",
    "\n",
    "X_train, X_test, y_train, y_test, _ = train_test_scale(X, y)\n",
    "\n",
    "models = make_classifiers()\n",
    "for name, model in models.items():\n",
    "    model.fit(X_train, y_train)\n",
    "    y_pred = model.predict(X_test)\n",
    "    print(f\"\\n[{name}]\")\n",
    "    print(classification_report(y_test, y_pred))\n"
   ]
  }
 ],
 "metadata": {},
 "nbformat": 4,
 "nbformat_minor": 5
}
