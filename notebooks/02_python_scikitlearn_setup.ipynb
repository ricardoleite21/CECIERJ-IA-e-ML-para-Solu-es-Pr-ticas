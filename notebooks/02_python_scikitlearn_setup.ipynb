{
 "cells": [
  {
   "cell_type": "markdown",
   "id": "ef64ba7d",
   "metadata": {},
   "source": [
    "\n",
    "# Capítulo 2 — Fundamentos de Python e Ambiente (Scikit‑learn)\n",
    "\n",
    "**Curso:** CECIERJ – IA e ML para Soluções Práticas  \n",
    "**Objetivo:** configurar ambiente, revisar Python essencial, e praticar NumPy, pandas, matplotlib e um *hello world* do Scikit‑learn com *pipeline* e validação.\n",
    "\n",
    "## Como preparar o ambiente (fora do notebook)\n",
    "**Windows PowerShell**\n",
    "```pwsh\n",
    "python -m venv .venv\n",
    ".\\.venv\\Scripts\\activate\n",
    "pip install -r env/requirements.txt\n",
    "python -m ipykernel install --user --name cecierj-ia-ml\n",
    "```\n",
    "**Linux/macOS**\n",
    "```bash\n",
    "python3 -m venv .venv\n",
    "source .venv/bin/activate\n",
    "pip install -r env/requirements.txt\n",
    "python3 -m ipykernel install --user --name cecierj-ia-ml\n",
    "```\n",
    "Abra o Jupyter Lab e selecione o *kernel* **cecierj-ia-ml**.\n"
   ]
  },
  {
   "cell_type": "code",
   "execution_count": null,
   "id": "4f94438d",
   "metadata": {},
   "outputs": [],
   "source": [
    "\n",
    "# Checagem de versões\n",
    "import sys\n",
    "print(\"Python:\", sys.version)\n",
    "try:\n",
    "    import numpy, pandas, sklearn, matplotlib\n",
    "    print(\"numpy:\", numpy.__version__)\n",
    "    print(\"pandas:\", pandas.__version__)\n",
    "    print(\"scikit-learn:\", sklearn.__version__)\n",
    "    print(\"matplotlib:\", matplotlib.__version__)\n",
    "except Exception as e:\n",
    "    print(\"Dependências ausentes:\", e)\n"
   ]
  },
  {
   "cell_type": "markdown",
   "id": "7dbcc21d",
   "metadata": {},
   "source": [
    "\n",
    "## 1) Python Essencial\n",
    "Tipos, estruturas, funções, erros e dicas de escrita.\n"
   ]
  },
  {
   "cell_type": "code",
   "execution_count": null,
   "id": "1a9945fc",
   "metadata": {},
   "outputs": [],
   "source": [
    "\n",
    "# Tipos e estruturas\n",
    "x = 3\n",
    "nums = [1, 2, 3]\n",
    "d = {\"curso\": \"CECIERJ\", \"modulo\": 2}\n",
    "s = {1, 2, 2, 3}\n",
    "t = (10, 20)\n",
    "\n",
    "print(type(x), type(nums), type(d), type(s), type(t))\n",
    "print(nums[0], d[\"curso\"], 2 in s)\n"
   ]
  },
  {
   "cell_type": "code",
   "execution_count": null,
   "id": "2d168dd2",
   "metadata": {},
   "outputs": [],
   "source": [
    "\n",
    "# Compreensões, desempacotamento e f-strings\n",
    "quad = [n*n for n in range(6)]\n",
    "a, b, *resto = [10, 20, 30, 40]\n",
    "print(quad, a, b, resto)\n",
    "nome, cap = \"Ricardo\", 2\n",
    "print(f\"Capítulo {cap} — Olá, {nome}!\")\n"
   ]
  },
  {
   "cell_type": "code",
   "execution_count": null,
   "id": "b757c8ad",
   "metadata": {},
   "outputs": [],
   "source": [
    "\n",
    "# Funções com anotações e docstring\n",
    "from typing import List\n",
    "\n",
    "def media(v: List[float]) -> float:\n",
    "    \"\"\"Retorna a média de uma lista numérica.\"\"\"\n",
    "    if not v:\n",
    "        raise ValueError(\"Lista vazia\")\n",
    "    return sum(v) / len(v)\n",
    "\n",
    "print(media([1,2,3]))\n"
   ]
  },
  {
   "cell_type": "code",
   "execution_count": null,
   "id": "ec48fd0b",
   "metadata": {},
   "outputs": [],
   "source": [
    "\n",
    "# Tratamento de erros\n",
    "try:\n",
    "    print(media([]))\n",
    "except ValueError as e:\n",
    "    print(\"Erro esperado:\", e)\n"
   ]
  },
  {
   "cell_type": "markdown",
   "id": "9646d0be",
   "metadata": {},
   "source": [
    "\n",
    "## 2) NumPy em 5 minutos\n",
    "Vetores/ Matrizes, *broadcasting*, multiplicação matricial e reprodutibilidade.\n"
   ]
  },
  {
   "cell_type": "code",
   "execution_count": null,
   "id": "58204446",
   "metadata": {},
   "outputs": [],
   "source": [
    "\n",
    "import numpy as np\n",
    "\n",
    "rng = np.random.default_rng(42)  # semente\n",
    "a = rng.integers(0, 10, size=(3,3))\n",
    "b = rng.integers(0, 10, size=(3,3))\n",
    "print(\"a:\\n\", a, \"\\n b:\\n\", b)\n",
    "\n",
    "# Soma com broadcasting\n",
    "print(\"a + 1:\\n\", a + 1)\n",
    "\n",
    "# Produto matricial\n",
    "print(\"a @ b:\\n\", a @ b)\n",
    "\n",
    "# Estatísticas\n",
    "print(\"média de a:\", a.mean(), \"desvio pad:\", a.std())\n"
   ]
  },
  {
   "cell_type": "markdown",
   "id": "181e5536",
   "metadata": {},
   "source": [
    "\n",
    "## 3) pandas em 5 minutos\n",
    "DataFrames, tipos, *describe*, tratamento de ausentes e *encoding* simples.\n"
   ]
  },
  {
   "cell_type": "code",
   "execution_count": null,
   "id": "cac99e65",
   "metadata": {},
   "outputs": [],
   "source": [
    "\n",
    "import pandas as pd\n",
    "from sklearn.datasets import load_wine\n",
    "\n",
    "data = load_wine(as_frame=True)\n",
    "df = data.frame.copy()\n",
    "print(df.dtypes.head())\n",
    "display(df.head())\n",
    "display(df.describe())\n"
   ]
  },
  {
   "cell_type": "code",
   "execution_count": null,
   "id": "67089d6e",
   "metadata": {},
   "outputs": [],
   "source": [
    "\n",
    "# Introduzindo ausentes artificialmente e tratando\n",
    "df2 = df.copy()\n",
    "df2.loc[df2.sample(frac=0.01, random_state=42).index, df2.columns[0]] = None\n",
    "print(\"Ausentes antes:\", df2.isna().sum().sum())\n",
    "df2.fillna(df2.median(numeric_only=True), inplace=True)\n",
    "print(\"Ausentes depois:\", df2.isna().sum().sum())\n"
   ]
  },
  {
   "cell_type": "code",
   "execution_count": null,
   "id": "0786515d",
   "metadata": {},
   "outputs": [],
   "source": [
    "\n",
    "# Exemplo de one-hot encoding simples (categorias simuladas)\n",
    "toy = pd.DataFrame({\n",
    "    \"bairro\": [\"Centro\",\"Norte\",\"Centro\",\"Sul\",\"Sul\"],\n",
    "    \"quartos\": [2,3,2,4,3],\n",
    "    \"preco\": [300, 450, 320, 700, 500]\n",
    "})\n",
    "display(toy)\n",
    "toy_enc = pd.get_dummies(toy, columns=[\"bairro\"], drop_first=True)\n",
    "display(toy_enc)\n"
   ]
  },
  {
   "cell_type": "markdown",
   "id": "2fc12ea5",
   "metadata": {},
   "source": [
    "\n",
    "## 4) matplotlib rápido\n",
    "Plot simples (sem estilos específicos).\n"
   ]
  },
  {
   "cell_type": "code",
   "execution_count": null,
   "id": "19895e50",
   "metadata": {},
   "outputs": [],
   "source": [
    "\n",
    "import matplotlib.pyplot as plt\n",
    "\n",
    "plt.figure()\n",
    "df['alcohol'].hist(bins=20)\n",
    "plt.title(\"Distribuição da variável 'alcohol' (Wine)\")\n",
    "plt.xlabel(\"alcohol\")\n",
    "plt.ylabel(\"contagem\")\n",
    "plt.show()\n"
   ]
  },
  {
   "cell_type": "markdown",
   "id": "b2b93048",
   "metadata": {},
   "source": [
    "\n",
    "## 5) Scikit‑learn *hello world*\n",
    "- *train/test split*\n",
    "- `Pipeline` (escalonamento + modelo)\n",
    "- `cross_val_score` e *random_state* para reprodutibilidade\n"
   ]
  },
  {
   "cell_type": "code",
   "execution_count": null,
   "id": "585c80c3",
   "metadata": {},
   "outputs": [],
   "source": [
    "\n",
    "from sklearn.datasets import load_iris\n",
    "from sklearn.model_selection import train_test_split, cross_val_score, StratifiedKFold\n",
    "from sklearn.preprocessing import StandardScaler\n",
    "from sklearn.pipeline import Pipeline\n",
    "from sklearn.linear_model import LogisticRegression\n",
    "import numpy as np\n",
    "\n",
    "iris = load_iris(as_frame=True)\n",
    "X = iris.frame.drop(columns=[\"target\"])\n",
    "y = iris.frame[\"target\"]\n",
    "\n",
    "X_train, X_test, y_train, y_test = train_test_split(\n",
    "    X, y, test_size=0.2, stratify=y, random_state=42\n",
    ")\n",
    "\n",
    "pipe = Pipeline([\n",
    "    (\"scaler\", StandardScaler()),\n",
    "    (\"clf\", LogisticRegression(max_iter=1000, multi_class=\"ovr\", random_state=42))\n",
    "])\n",
    "\n",
    "cv = StratifiedKFold(n_splits=5, shuffle=True, random_state=42)\n",
    "scores = cross_val_score(pipe, X, y, cv=cv, scoring=\"accuracy\")\n",
    "print(\"CV Accuracy média:\", scores.mean())\n",
    "pipe.fit(X_train, y_train)\n",
    "print(\"Acurácia holdout:\", pipe.score(X_test, y_test))\n"
   ]
  },
  {
   "cell_type": "markdown",
   "id": "edf818b5",
   "metadata": {},
   "source": [
    "\n",
    "## 6) *ColumnTransformer* (numéricas + categóricas) — exemplo mínimo\n",
    "Transforma diferentes colunas com *pipelines* distintos (numéricas e categóricas).\n"
   ]
  },
  {
   "cell_type": "code",
   "execution_count": null,
   "id": "d43abe2f",
   "metadata": {},
   "outputs": [],
   "source": [
    "\n",
    "import pandas as pd\n",
    "from sklearn.compose import ColumnTransformer\n",
    "from sklearn.preprocessing import OneHotEncoder\n",
    "from sklearn.linear_model import LinearRegression\n",
    "from sklearn.metrics import mean_squared_error\n",
    "from sklearn.model_selection import train_test_split\n",
    "\n",
    "dfc = pd.DataFrame({\n",
    "    \"bairro\": [\"Centro\",\"Norte\",\"Centro\",\"Sul\",\"Sul\",\"Norte\",\"Sul\",\"Centro\"],\n",
    "    \"quartos\": [2,3,2,4,3,2,4,1],\n",
    "    \"area\": [60, 80, 55, 120, 90, 50, 110, 40],\n",
    "    \"preco\": [320, 480, 300, 800, 520, 260, 750, 220]\n",
    "})\n",
    "Xc = dfc[[\"bairro\", \"quartos\", \"area\"]]\n",
    "yc = dfc[\"preco\"]\n",
    "\n",
    "num_cols = [\"quartos\",\"area\"]\n",
    "cat_cols = [\"bairro\"]\n",
    "\n",
    "ct = ColumnTransformer([\n",
    "    (\"num\", StandardScaler(), num_cols),\n",
    "    (\"cat\", OneHotEncoder(drop=\"first\"), cat_cols),\n",
    "])\n",
    "\n",
    "reg = Pipeline([(\"prep\", ct), (\"lr\", LinearRegression())])\n",
    "Xc_tr, Xc_te, yc_tr, yc_te = train_test_split(Xc, yc, test_size=0.25, random_state=42)\n",
    "\n",
    "reg.fit(Xc_tr, yc_tr)\n",
    "pred = reg.predict(Xc_te)\n",
    "mse = mean_squared_error(yc_te, pred)\n",
    "print(\"MSE:\", round(mse,2))\n"
   ]
  },
  {
   "cell_type": "markdown",
   "id": "f6aaba14",
   "metadata": {},
   "source": [
    "\n",
    "## 7) Salvando e carregando modelos (`joblib`)\n",
    "Demonstração prática para *persistência*.\n"
   ]
  },
  {
   "cell_type": "code",
   "execution_count": null,
   "id": "1651ea3d",
   "metadata": {},
   "outputs": [],
   "source": [
    "\n",
    "import joblib, os\n",
    "save_path = \"/mnt/data/modelo_cap2.joblib\"\n",
    "joblib.dump(pipe, save_path)\n",
    "print(\"Modelo salvo em:\", save_path)\n",
    "\n",
    "loaded = joblib.load(save_path)\n",
    "print(\"Score após carregar:\", loaded.score(X_test, y_test))\n"
   ]
  },
  {
   "cell_type": "markdown",
   "id": "70df958b",
   "metadata": {},
   "source": [
    "\n",
    "## Checklist de Reprodutibilidade\n",
    "- Fixe *seeds* (`random_state`).\n",
    "- Registre versões (Python/Libs).\n",
    "- Use `Pipeline`/`ColumnTransformer` para evitar *leakage*.\n",
    "- Versione código e dados.\n",
    "- Documente métricas e decisões.\n"
   ]
  }
 ],
 "metadata": {},
 "nbformat": 4,
 "nbformat_minor": 5
}
