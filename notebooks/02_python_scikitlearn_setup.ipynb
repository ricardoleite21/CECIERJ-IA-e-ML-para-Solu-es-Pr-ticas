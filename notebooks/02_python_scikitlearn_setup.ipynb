{
 "cells": [
  {
   "cell_type": "markdown",
   "id": "513f7f29",
   "metadata": {},
   "source": [
    "\n",
    "# Capítulo 2 — Fundamentos de Python e Ambiente (Scikit-learn)\n",
    "**Tópicos**\n",
    "- venv, pip, versões\n",
    "- Tipos básicos (list/dict), compreensão de listas\n",
    "- Importação e checagem do ambiente\n"
   ]
  },
  {
   "cell_type": "code",
   "execution_count": null,
   "id": "d39bca2b",
   "metadata": {},
   "outputs": [],
   "source": [
    "\n",
    "import sys\n",
    "print(\"Python:\", sys.version)\n",
    "try:\n",
    "    import numpy, pandas, sklearn, matplotlib\n",
    "    print(\"numpy:\", numpy.__version__)\n",
    "    print(\"pandas:\", pandas.__version__)\n",
    "    print(\"scikit-learn:\", sklearn.__version__)\n",
    "    print(\"matplotlib:\", matplotlib.__version__)\n",
    "except Exception as e:\n",
    "    print(\"Dependências ausentes:\", e)\n"
   ]
  },
  {
   "cell_type": "code",
   "execution_count": null,
   "id": "b57c937d",
   "metadata": {},
   "outputs": [],
   "source": [
    "\n",
    "# Mini revisão Python\n",
    "nums = [x**2 for x in range(5)]\n",
    "d = {\"a\": 1, \"b\": 2}\n",
    "print(nums, d, sum(nums))\n"
   ]
  }
 ],
 "metadata": {},
 "nbformat": 4,
 "nbformat_minor": 5
}
