{
 "cells": [
  {
   "cell_type": "markdown",
   "id": "8e72fe36",
   "metadata": {},
   "source": [
    "# Capítulo 2 — Fundamentos de Python e instalação do Scikit-learn\n",
    "\n",
    "- Revisão rápida de Python (listas, dicionários, funções)\n",
    "- Criação de ambiente virtual e instalação de dependências\n",
    "- Teste do Scikit-learn\n"
   ]
  },
  {
   "cell_type": "code",
   "execution_count": null,
   "id": "5a380add",
   "metadata": {},
   "outputs": [],
   "source": [
    "# Exemplo de checagem do ambiente (execute após instalar os requisitos)\n",
    "import sys\n",
    "print(\"Python:\", sys.version)\n",
    "try:\n",
    "    import sklearn, numpy, pandas, matplotlib\n",
    "    print(\"scikit-learn:\", sklearn.__version__)\n",
    "except Exception as e:\n",
    "    print(\"Dependências ausentes:\", e)\n"
   ]
  }
 ],
 "metadata": {},
 "nbformat": 4,
 "nbformat_minor": 5
}
