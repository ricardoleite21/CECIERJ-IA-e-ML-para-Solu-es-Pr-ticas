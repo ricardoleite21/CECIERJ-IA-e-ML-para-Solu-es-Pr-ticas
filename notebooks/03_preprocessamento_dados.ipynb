{
 "cells": [
  {
   "cell_type": "markdown",
   "id": "2a3b0b34",
   "metadata": {},
   "source": [
    "# Capítulo 3 — Pré-processamento de dados\n",
    "\n",
    "- Limpeza e preparação\n",
    "- Normalização/padronização\n",
    "- Divisão treino/teste\n"
   ]
  },
  {
   "cell_type": "code",
   "execution_count": null,
   "id": "735ad815",
   "metadata": {},
   "outputs": [],
   "source": [
    "import pandas as pd\n",
    "from sklearn.datasets import load_wine\n",
    "from src.preprocessing import train_test_scale\n",
    "\n",
    "data = load_wine(as_frame=True)\n",
    "X = data.frame.drop(columns=[\"target\"])\n",
    "y = data.frame[\"target\"]\n",
    "\n",
    "X_train, X_test, y_train, y_test, scaler = train_test_scale(X, y)\n",
    "X_train[:5]\n"
   ]
  }
 ],
 "metadata": {},
 "nbformat": 4,
 "nbformat_minor": 5
}
