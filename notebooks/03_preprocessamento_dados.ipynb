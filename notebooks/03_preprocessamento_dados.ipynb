{
 "cells": [
  {
   "cell_type": "markdown",
   "id": "86a83e6e",
   "metadata": {},
   "source": [
    "\n",
    "# Capítulo 3 — EDA e Pré-processamento de Dados\n",
    "\n",
    "**Curso:** CECIERJ – IA e ML para Soluções Práticas  \n",
    "**Objetivo:** realizar **Análise Exploratória de Dados (EDA)** e aplicar técnicas de **pré-processamento** fundamentais antes de treinar modelos.\n",
    "\n",
    "---\n",
    "## Passos abordados\n",
    "1. Carregamento de dataset (`Wine` do scikit-learn).  \n",
    "2. EDA: dimensões, estatísticas, distribuições, correlações.  \n",
    "3. Tratamento de valores ausentes.  \n",
    "4. Normalização/Padronização.  \n",
    "5. *Encoding* de variáveis categóricas.  \n",
    "6. *Train/Test Split* e boas práticas contra *data leakage*.  \n",
    "7. *Pipeline* com `ColumnTransformer`.\n"
   ]
  },
  {
   "cell_type": "code",
   "execution_count": null,
   "id": "a887a064",
   "metadata": {},
   "outputs": [],
   "source": [
    "\n",
    "import pandas as pd\n",
    "from sklearn.datasets import load_wine\n",
    "\n",
    "ds = load_wine(as_frame=True)\n",
    "df = ds.frame.copy()\n",
    "print(\"Shape:\", df.shape)\n",
    "df.head()\n"
   ]
  },
  {
   "cell_type": "code",
   "execution_count": null,
   "id": "ce4e6d2a",
   "metadata": {},
   "outputs": [],
   "source": [
    "\n",
    "# Estatísticas descritivas\n",
    "display(df.describe())\n",
    "\n",
    "# Tipos de dados e checagem de ausentes\n",
    "print(df.dtypes.head())\n",
    "print(\"Total de ausentes:\", df.isna().sum().sum())\n"
   ]
  },
  {
   "cell_type": "code",
   "execution_count": null,
   "id": "791da5a0",
   "metadata": {},
   "outputs": [],
   "source": [
    "\n",
    "import matplotlib.pyplot as plt\n",
    "\n",
    "df.hist(figsize=(12,8), bins=20)\n",
    "plt.suptitle(\"Distribuições das variáveis (Wine)\", y=1.02)\n",
    "plt.show()\n"
   ]
  },
  {
   "cell_type": "code",
   "execution_count": null,
   "id": "2df859aa",
   "metadata": {},
   "outputs": [],
   "source": [
    "\n",
    "import seaborn as sns\n",
    "\n",
    "plt.figure(figsize=(10,8))\n",
    "sns.heatmap(df.corr(numeric_only=True), cmap=\"coolwarm\", center=0)\n",
    "plt.title(\"Matriz de correlação (Wine)\")\n",
    "plt.show()\n"
   ]
  },
  {
   "cell_type": "code",
   "execution_count": null,
   "id": "a42de15b",
   "metadata": {},
   "outputs": [],
   "source": [
    "\n",
    "# Introduzindo valores ausentes artificiais em 1% das linhas\n",
    "import numpy as np\n",
    "\n",
    "df2 = df.copy()\n",
    "rng = np.random.default_rng(42)\n",
    "ix = rng.choice(df2.index, size=int(len(df2)*0.01), replace=False)\n",
    "df2.loc[ix, \"alcohol\"] = None\n",
    "print(\"Ausentes em 'alcohol':\", df2[\"alcohol\"].isna().sum())\n",
    "\n",
    "# Tratamento: preenchendo com mediana\n",
    "df2[\"alcohol\"].fillna(df2[\"alcohol\"].median(), inplace=True)\n",
    "print(\"Ausentes após fillna:\", df2[\"alcohol\"].isna().sum())\n"
   ]
  },
  {
   "cell_type": "code",
   "execution_count": null,
   "id": "0d6e328c",
   "metadata": {},
   "outputs": [],
   "source": [
    "\n",
    "from sklearn.model_selection import train_test_split\n",
    "from sklearn.preprocessing import StandardScaler\n",
    "\n",
    "X = df.drop(columns=[\"target\"])\n",
    "y = df[\"target\"]\n",
    "X_train, X_test, y_train, y_test = train_test_split(\n",
    "    X, y, test_size=0.2, stratify=y, random_state=42\n",
    ")\n",
    "\n",
    "scaler = StandardScaler()\n",
    "X_train_scaled = scaler.fit_transform(X_train)\n",
    "X_test_scaled = scaler.transform(X_test)\n",
    "print(\"Treino:\", X_train_scaled.shape, \"Teste:\", X_test_scaled.shape)\n"
   ]
  },
  {
   "cell_type": "code",
   "execution_count": null,
   "id": "2d440566",
   "metadata": {},
   "outputs": [],
   "source": [
    "\n",
    "# Exemplo didático com variáveis categóricas simuladas\n",
    "toy = pd.DataFrame({\n",
    "    \"bairro\": [\"Centro\",\"Norte\",\"Centro\",\"Sul\",\"Sul\",\"Norte\",\"Sul\",\"Centro\"],\n",
    "    \"quartos\": [2,3,2,4,3,2,4,1],\n",
    "    \"area\": [60, 80, 55, 120, 90, 50, 110, 40],\n",
    "    \"preco\": [320, 480, 300, 800, 520, 260, 750, 220]\n",
    "})\n",
    "toy\n"
   ]
  },
  {
   "cell_type": "code",
   "execution_count": null,
   "id": "a8d55cd3",
   "metadata": {},
   "outputs": [],
   "source": [
    "\n",
    "from sklearn.compose import ColumnTransformer\n",
    "from sklearn.preprocessing import OneHotEncoder\n",
    "\n",
    "Xc = toy[[\"bairro\", \"quartos\", \"area\"]]\n",
    "yc = toy[\"preco\"]\n",
    "\n",
    "num_cols = [\"quartos\",\"area\"]\n",
    "cat_cols = [\"bairro\"]\n",
    "\n",
    "ct = ColumnTransformer([\n",
    "    (\"num\", StandardScaler(), num_cols),\n",
    "    (\"cat\", OneHotEncoder(drop=\"first\"), cat_cols),\n",
    "])\n",
    "Xc_transformed = ct.fit_transform(Xc)\n",
    "print(\"Shape após ColumnTransformer:\", Xc_transformed.shape)\n"
   ]
  },
  {
   "cell_type": "code",
   "execution_count": null,
   "id": "37d3fc9f",
   "metadata": {},
   "outputs": [],
   "source": [
    "\n",
    "from sklearn.pipeline import Pipeline\n",
    "from sklearn.linear_model import LinearRegression\n",
    "from sklearn.metrics import mean_squared_error\n",
    "\n",
    "reg = Pipeline([(\"prep\", ct), (\"lr\", LinearRegression())])\n",
    "Xc_train, Xc_test, yc_train, yc_test = train_test_split(Xc, yc, test_size=0.25, random_state=42)\n",
    "reg.fit(Xc_train, yc_train)\n",
    "pred = reg.predict(Xc_test)\n",
    "print(\"MSE:\", round(mean_squared_error(yc_test, pred),2))\n"
   ]
  },
  {
   "cell_type": "markdown",
   "id": "bbf8b602",
   "metadata": {},
   "source": [
    "\n",
    "---\n",
    "## Boas práticas de Pré-processamento\n",
    "- **Nunca aplique `fit` em dados de teste** → evite *data leakage*.  \n",
    "- Use **`Pipeline`/`ColumnTransformer`** para manter consistência.  \n",
    "- Sempre cheque **estatísticas e distribuições** antes de normalizar.  \n",
    "- Documente as transformações e salve objetos (`scaler`, `encoder`).  \n",
    "- Pense em escalabilidade (colunas novas, categorias raras).\n"
   ]
  }
 ],
 "metadata": {},
 "nbformat": 4,
 "nbformat_minor": 5
}
