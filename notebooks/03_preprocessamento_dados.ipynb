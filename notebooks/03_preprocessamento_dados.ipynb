{
 "cells": [
  {
   "cell_type": "markdown",
   "id": "bd00dce2",
   "metadata": {},
   "source": [
    "\n",
    "# Capítulo 3 — EDA e Pré-processamento de dados\n",
    "**Objetivo:** realizar exploração inicial e preparar dados para modelos.\n",
    "- Carregamento (Breast Cancer)\n",
    "- EDA básica: dimensões, estatísticas, correlações\n",
    "- *Train/Test split*\n",
    "- `Pipeline` + `ColumnTransformer` (exemplo com numéricas)\n",
    "- Normalização/Padronização\n"
   ]
  },
  {
   "cell_type": "code",
   "execution_count": null,
   "id": "25b07eab",
   "metadata": {},
   "outputs": [],
   "source": [
    "\n",
    "import pandas as pd\n",
    "from sklearn.datasets import load_breast_cancer\n",
    "import numpy as np\n",
    "\n",
    "ds = load_breast_cancer(as_frame=True)\n",
    "df = ds.frame.copy()\n",
    "df.head()\n"
   ]
  },
  {
   "cell_type": "code",
   "execution_count": null,
   "id": "e2b99095",
   "metadata": {},
   "outputs": [],
   "source": [
    "\n",
    "# EDA rápida\n",
    "display(df.describe(include='all'))\n",
    "print(\"Shape:\", df.shape)\n",
    "corr = df.drop(columns=['target']).corr(numeric_only=True)\n",
    "corr.values[:3,:3]\n"
   ]
  },
  {
   "cell_type": "code",
   "execution_count": null,
   "id": "6a7d8fc4",
   "metadata": {},
   "outputs": [],
   "source": [
    "\n",
    "# Split + escalonamento em Pipeline\n",
    "from sklearn.model_selection import train_test_split\n",
    "from sklearn.preprocessing import StandardScaler\n",
    "from sklearn.pipeline import Pipeline\n",
    "\n",
    "X = df.drop(columns=['target'])\n",
    "y = df['target']\n",
    "X_train, X_test, y_train, y_test = train_test_split(\n",
    "    X, y, test_size=0.2, random_state=42, stratify=y\n",
    ")\n",
    "\n",
    "pipe_scale = Pipeline([\n",
    "    ('scaler', StandardScaler())\n",
    "])\n",
    "X_train_scaled = pipe_scale.fit_transform(X_train)\n",
    "X_test_scaled = pipe_scale.transform(X_test)\n",
    "\n",
    "X_train_scaled[:2]\n"
   ]
  },
  {
   "cell_type": "markdown",
   "id": "4856596f",
   "metadata": {},
   "source": [
    "\n",
    "**Boas práticas**  \n",
    "- Use *pipelines* para evitar *data leakage*.  \n",
    "- Nunca *fit* em dados de teste.  \n",
    "- Padronize aleatoriedade (`random_state`) para reprodutibilidade.\n"
   ]
  }
 ],
 "metadata": {},
 "nbformat": 4,
 "nbformat_minor": 5
}
